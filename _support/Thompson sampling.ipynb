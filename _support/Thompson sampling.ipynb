{
 "cells": [
  {
   "cell_type": "code",
   "execution_count": 1,
   "metadata": {},
   "outputs": [
    {
     "name": "stdout",
     "output_type": "stream",
     "text": [
      "Bandit 1: wins/trials: 3/13. Estimated p: 0.231. Actual p: 0.250\n",
      "Bandit 2: wins/trials: 22/57. Estimated p: 0.386. Actual p: 0.450\n",
      "Bandit 3: wins/trials: 539/930. Estimated p: 0.580. Actual p: 0.550\n",
      "\n",
      "Expected number of wins with optimal strategy: 550.000\n",
      "Actual wins: 564\n"
     ]
    }
   ],
   "source": [
    "import numpy as np\n",
    "import scipy\n",
    "import scipy.stats as stats\n",
    "\n",
    "np.random.seed(42)\n",
    "NUM_BETS = 1000\n",
    "p = [0.25, 0.45, 0.55]\n",
    "num_bandits = len(p)\n",
    "wins = [0]*num_bandits\n",
    "losses = [0]*num_bandits\n",
    "\n",
    "prior_distributions = [scipy.stats.beta(a=1, b=1) for _ in range(num_bandits)]\n",
    "\n",
    "for _ in range(NUM_BETS):\n",
    "    theta_samples = [float(dist.rvs(1)) for dist in prior_distributions]\n",
    "\n",
    "    chosen_bandit = np.argmax(theta_samples)\n",
    "    \n",
    "    if np.random.rand() < p[chosen_bandit]:\n",
    "        wins[chosen_bandit] = wins[chosen_bandit] + 1\n",
    "    else:\n",
    "        losses[chosen_bandit] = losses[chosen_bandit] + 1\n",
    "\n",
    "    alpha = 1 + wins[chosen_bandit]\n",
    "    beta = 1 + losses[chosen_bandit]\n",
    "    prior_distributions[chosen_bandit] = scipy.stats.beta(a=alpha, b=beta)\n",
    "\n",
    "for k in range(num_bandits):\n",
    "    estimated = float(wins[k])/(wins[k] + losses[k])\n",
    "    print('Bandit %d: wins/trials: %d/%d. Estimated p: %.3f. Actual p: %.3f' % (\n",
    "            k+1, wins[k], wins[k]+losses[k],estimated, p[k]))\n",
    "\n",
    "print('')\n",
    "print('Expected number of wins with optimal strategy: %.3f' % (max(p)*NUM_BETS))\n",
    "print('Actual wins: %d' % sum(wins))"
   ]
  },
  {
   "cell_type": "code",
   "execution_count": null,
   "metadata": {},
   "outputs": [],
   "source": []
  }
 ],
 "metadata": {
  "kernelspec": {
   "display_name": "Python 3",
   "language": "python",
   "name": "python3"
  },
  "language_info": {
   "codemirror_mode": {
    "name": "ipython",
    "version": 3
   },
   "file_extension": ".py",
   "mimetype": "text/x-python",
   "name": "python",
   "nbconvert_exporter": "python",
   "pygments_lexer": "ipython3",
   "version": "3.6.7"
  }
 },
 "nbformat": 4,
 "nbformat_minor": 2
}
